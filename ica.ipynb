{
 "cells": [
  {
   "cell_type": "code",
   "execution_count": null,
   "source": [
    "%matplotlib inline"
   ],
   "outputs": [],
   "metadata": {}
  },
  {
   "cell_type": "code",
   "execution_count": null,
   "source": [
    "import mne\n",
    "import numpy as np\n",
    "import matplotlib.pyplot as plt\n",
    "from mne_bids import (BIDSPath, read_raw_bids)\n",
    "import os, ccs_eeg_utils\n",
    "\n",
    "bids_root = os.path.join('data', 'P3')\n",
    "subject_id = '002'\n",
    "\n",
    "\n",
    "bids_path = BIDSPath(subject=subject_id, session='P3', task='P3',\n",
    "                     datatype='eeg', suffix='eeg', root=bids_root)\n",
    "\n",
    "raw = read_raw_bids(bids_path)\n",
    "ccs_eeg_utils.read_annotations_core(bids_path,raw)\n",
    "raw.load_data()\n",
    "raw.filter(0.5,50, fir_design='firwin')"
   ],
   "outputs": [],
   "metadata": {}
  },
  {
   "cell_type": "code",
   "execution_count": null,
   "source": [
    "raw.set_montage('standard_1020', match_case=False)"
   ],
   "outputs": [],
   "metadata": {}
  },
  {
   "cell_type": "code",
   "execution_count": null,
   "source": [
    "ica = mne.preprocessing.ICA(method=\"fastica\")\n",
    "ica.fit(raw,verbose=True)"
   ],
   "outputs": [],
   "metadata": {}
  },
  {
   "cell_type": "code",
   "execution_count": null,
   "source": [
    "evts,evts_dict = mne.events_from_annotations(raw)\n",
    "wanted_keys = [e for e in evts_dict.keys() if \"response\" in e]\n",
    "evts_dict_stim=dict((k, evts_dict[k]) for k in wanted_keys if k in evts_dict)"
   ],
   "outputs": [],
   "metadata": {}
  },
  {
   "cell_type": "code",
   "execution_count": null,
   "source": [
    "epochs = mne.Epochs(raw,evts,evts_dict_stim,tmin=-0.1,tmax=1)\n",
    "epochs.average().plot(picks='Oz')"
   ],
   "outputs": [],
   "metadata": {}
  },
  {
   "cell_type": "code",
   "execution_count": null,
   "source": [
    "epochs = mne.Epochs(ica.get_sources(raw),evts,evts_dict_stim,tmin=-0.1,tmax=1)\n",
    "epochs.average(picks=).plot()"
   ],
   "outputs": [],
   "metadata": {}
  },
  {
   "cell_type": "code",
   "execution_count": null,
   "source": [
    "reconst_raw = raw.copy()\n",
    "ica.apply(reconst_raw,exclude=[1,8,9])\n",
    "\n",
    "#raw.plot()\n",
    "#reconst_raw.plot()  \n",
    "ica.plot_overlay(raw,exclude=[1,8,9])"
   ],
   "outputs": [],
   "metadata": {}
  }
 ],
 "metadata": {
  "orig_nbformat": 4,
  "language_info": {
   "name": "python",
   "version": "3.9.5",
   "mimetype": "text/x-python",
   "codemirror_mode": {
    "name": "ipython",
    "version": 3
   },
   "pygments_lexer": "ipython3",
   "nbconvert_exporter": "python",
   "file_extension": ".py"
  },
  "kernelspec": {
   "name": "python3",
   "display_name": "Python 3.9.5 64-bit ('eeg-pipeline': conda)"
  },
  "interpreter": {
   "hash": "233cf508140b27af71c2fd72824dba1558955cbde085ff12424d6ed1900c82a6"
  }
 },
 "nbformat": 4,
 "nbformat_minor": 2
}