{
 "cells": [
  {
   "cell_type": "code",
   "execution_count": null,
   "source": [
    "%matplotlib inline\r\n",
    "import sys\r\n",
    "sys.path.append(\"src\") # add the source dir"
   ],
   "outputs": [],
   "metadata": {}
  },
  {
   "cell_type": "code",
   "execution_count": null,
   "source": [
    "import matplotlib.pyplot as plt\r\n",
    "import os\r\n",
    "from src.pipeline import Pipeline, MultiPipeline\r\n",
    "from mne_bids import BIDSPath\r\n",
    "import mne"
   ],
   "outputs": [],
   "metadata": {}
  },
  {
   "cell_type": "markdown",
   "source": [
    "## We will do an individual Analysis of subject 30, afterthat, we will statistically check all the other subject"
   ],
   "metadata": {}
  },
  {
   "cell_type": "code",
   "execution_count": null,
   "source": [
    "bids_root = os.path.join('data', 'P3')\r\n",
    "bids_path = BIDSPath(subject='039', session='P3', task='P3',datatype='eeg', suffix='eeg', root=bids_root)\r\n",
    "pipeline = Pipeline(bids_path)"
   ],
   "outputs": [],
   "metadata": {}
  },
  {
   "cell_type": "code",
   "execution_count": null,
   "source": [
    "from preprocessing import CleaningData, SimpleMNEFilter, PrecomputedICA\r\n",
    "\r\n",
    "pipeline.load_data()\r\n",
    "pipeline.set_montage()"
   ],
   "outputs": [],
   "metadata": {}
  },
  {
   "cell_type": "markdown",
   "source": [
    "### We will use our pipeline to perform following operations\r\n",
    "- Loading bad segments, bad channels\r\n",
    "- Apply filtering\r\n",
    "- Loading Precomputed ICA"
   ],
   "metadata": {}
  },
  {
   "cell_type": "code",
   "execution_count": null,
   "source": [
    "pipeline.make_pipeline([CleaningData(bids_path), SimpleMNEFilter(0.5, 50, 'firwin'), PrecomputedICA(bids_path)])"
   ],
   "outputs": [],
   "metadata": {}
  },
  {
   "cell_type": "code",
   "execution_count": null,
   "source": [
    "pipeline.apply_rereferencing('average')\r\n",
    "pipeline.apply_resampling(512)"
   ],
   "outputs": [],
   "metadata": {}
  },
  {
   "cell_type": "markdown",
   "source": [
    "# ERP Peak Analysis"
   ],
   "metadata": {}
  },
  {
   "cell_type": "code",
   "execution_count": null,
   "source": [
    "from erpanalysis import ERPAnalysis\r\n",
    "tmin = -0.1\r\n",
    "tmax = 0.8\r\n",
    "baseline = (None, 0)\r\n"
   ],
   "outputs": [],
   "metadata": {}
  },
  {
   "cell_type": "markdown",
   "source": [
    "## We will create epochs from custom mappings, where,\r\n",
    "\r\n",
    "- Stimulus: A, B, C, D, E\r\n",
    "\r\n",
    "- Conditions: Rare, Frequent"
   ],
   "metadata": {}
  },
  {
   "cell_type": "code",
   "execution_count": null,
   "source": [
    "pipeline.set_custom_events_mapping(task='P3')\r\n",
    "erp = ERPAnalysis(tmin, tmax)\r\n",
    "erp.compute_epochs(pipeline.raw, pipeline.events, pipeline.event_ids, baseline=baseline, reject_by_annotation=True)"
   ],
   "outputs": [],
   "metadata": {}
  },
  {
   "cell_type": "markdown",
   "source": [
    "## Analysis Epochs"
   ],
   "metadata": {}
  },
  {
   "cell_type": "code",
   "execution_count": null,
   "source": [
    "rare_epochs = erp.epochs['rare']\r\n",
    "freq_epochs = erp.epochs['freq']"
   ],
   "outputs": [],
   "metadata": {}
  },
  {
   "cell_type": "code",
   "execution_count": null,
   "source": [
    "_, axs = plt.subplots(nrows=1, ncols=5, figsize=(8, 4));\r\n",
    "rare_epochs.plot_psd_topomap(axes = axs);\r\n",
    "_, axs = plt.subplots(nrows=1, ncols=5, figsize=(8, 4));\r\n",
    "freq_epochs.plot_psd_topomap(axes = axs);"
   ],
   "outputs": [],
   "metadata": {}
  },
  {
   "cell_type": "code",
   "execution_count": null,
   "source": [
    "rare_epochs.plot_image(picks=['Cz'], combine='mean');\r\n",
    "freq_epochs.plot_image(picks=['Cz'], combine='mean');"
   ],
   "outputs": [],
   "metadata": {}
  },
  {
   "cell_type": "code",
   "execution_count": null,
   "source": [
    "\r\n",
    "erp.epochs['A'].plot_image(picks=['Cz'], combine='mean');"
   ],
   "outputs": [],
   "metadata": {}
  },
  {
   "cell_type": "code",
   "execution_count": null,
   "source": [
    "\r\n",
    "erp.epochs['freq'].plot_image(picks=['Cz'], combine='mean');"
   ],
   "outputs": [],
   "metadata": {}
  },
  {
   "cell_type": "markdown",
   "source": [
    "## Analysis Evokeds"
   ],
   "metadata": {}
  },
  {
   "cell_type": "code",
   "execution_count": null,
   "source": [
    "epochs_raw = erp.compute_epochs(pipeline.raw, pipeline.events, pipeline.event_ids, set_default=False, reject_by_annotation=False)\r\n",
    "epochs_clean = erp.epochs.copy()\r\n",
    "evoked_raw = epochs_raw['stimulus'].average()\r\n",
    "evoked_clean = epochs_clean['stimulus'].average()\r\n",
    "mne.viz.plot_compare_evokeds({'clean/stimulus': evoked_clean,'raw/stimulus': evoked_raw},picks=\"Cz\")"
   ],
   "outputs": [],
   "metadata": {}
  },
  {
   "cell_type": "code",
   "execution_count": null,
   "source": [
    "mne.viz.plot_compare_evokeds({'clean': epochs_clean['A'].average(),'dirty':epochs_raw['A'].average()},picks=\"Cz\")"
   ],
   "outputs": [],
   "metadata": {}
  },
  {
   "cell_type": "code",
   "execution_count": null,
   "source": [
    "mne.viz.plot_compare_evokeds({'rare': epochs_clean['rare'].average(),'freq':epochs_clean['freq'].average()},picks=\"Cz\")"
   ],
   "outputs": [],
   "metadata": {}
  },
  {
   "cell_type": "markdown",
   "source": [
    "## It seems it is futile to check for condition on each subject since, the number of events in epochs drop downs to a range between 0,5. There is a possiblity that we might be getting futile results"
   ],
   "metadata": {}
  },
  {
   "cell_type": "code",
   "execution_count": null,
   "source": [
    "_, axs = plt.subplots(nrows=1, ncols=1, figsize=(10, 4));\r\n",
    "mne.viz.plot_compare_evokeds({'rare': epochs_clean['rare/D'].average(),'freq':epochs_clean['freq/D'].average()},axes=axs, picks=\"Cz\")\r\n",
    "# mne.viz.plot_compare_evokeds({'rare': epochs_clean['rare/B'].average(),'freq':epochs_clean['freq/B'].average()},axes=ax[1], picks=\"Cz\")"
   ],
   "outputs": [],
   "metadata": {}
  },
  {
   "cell_type": "code",
   "execution_count": null,
   "source": [
    "pipelines = MultiPipeline(bids_root)\r\n",
    "erp = ERPAnalysis(tmin, tmax, baseline=(None, 0), reject_by_annotation=True, all_subjects=True)\r\n",
    "pipelines.start_erp_analysis(erp);"
   ],
   "outputs": [],
   "metadata": {}
  },
  {
   "cell_type": "code",
   "execution_count": null,
   "source": [
    "len(erp.epochs)"
   ],
   "outputs": [],
   "metadata": {}
  },
  {
   "cell_type": "code",
   "execution_count": null,
   "source": [
    "def plt_all_subjects(_epochs, ax, sub_id):\r\n",
    "    mne.viz.plot_compare_evokeds({'rare': _epochs['rare'].average(),'freq':_epochs['freq'].average()},axes=ax, title='Subject {}'.format(sub_id), picks=\"Cz\")"
   ],
   "outputs": [],
   "metadata": {}
  },
  {
   "cell_type": "code",
   "execution_count": null,
   "source": [
    "mne.viz.plot_compare_evokeds({'rare': erp.epochs[38]['rare'].average(),'freq':erp.epochs[38]['freq'].average()},picks=\"Cz\")\r\n",
    "mne.viz.plot_compare_evokeds({'rare': epochs_clean['rare'].average(),'freq':epochs_clean['freq'].average()},picks=\"Cz\")"
   ],
   "outputs": [],
   "metadata": {}
  },
  {
   "cell_type": "code",
   "execution_count": null,
   "source": [
    "evokeds = [epochs_clean[name].average() for name in ('rare', 'freq')]"
   ],
   "outputs": [],
   "metadata": {}
  },
  {
   "cell_type": "code",
   "execution_count": null,
   "source": [
    "colors = 'red', 'green'\r\n",
    "title = 'MNE sample data\\nleft vs right (A/V combined)'\r\n",
    "mne.viz.plot_evoked_topo(evokeds, color=colors, title=title, background_color='w')\r\n",
    "plt.show()"
   ],
   "outputs": [],
   "metadata": {}
  },
  {
   "cell_type": "code",
   "execution_count": null,
   "source": [
    "# %matplotlib qt \r\n",
    "# _, axs = plt.subplots(nrows=2, ncols=4, sharex=False, sharey=False);\r\n",
    "# ax = axs.ravel()\r\n",
    "# dfl = erp.epochs[:8]\r\n",
    "# for i, ep in enumerate(dfl):\r\n",
    "#     ax[i].set_title('subject {}'.format(i))\r\n",
    "#     plt_all_subjects(ep, ax[i], i+1)\r\n",
    "# plt.tight_layout()"
   ],
   "outputs": [],
   "metadata": {}
  },
  {
   "cell_type": "code",
   "execution_count": null,
   "source": [
    "import numpy as np\r\n",
    "blocks = np.array([ list(range(10*x + 1, 10*x + 6)) for x in range(1, 6)])\r\n",
    "rare = np.array([ x + i for i, x in enumerate(range(11, 56, 10))]).tolist()\r\n",
    "freq = np.setdiff1d(blocks.flatten(), rare).tolist()\r\n",
    "stimlus = ['A', 'B', 'C', 'D', 'E']\r\n",
    "evts_stim = pipeline.event_ids\r\n",
    "rare = [k for k in evts_stim.keys() if k.split('/')[1] == 'rare']\r\n",
    "freq = [k for k in evts_stim.keys() if k.split('/')[1] == 'freq']\r\n",
    "rare_dict = dict((k, pipeline.event_ids[k]) for k in rare)\r\n",
    "freq_dict = dict((k, pipeline.event_ids[k]) for k in freq)\r\n",
    "\r\n",
    "rare_epochs = mne.Epochs(pipeline.raw,pipeline.events, rare_dict,tmin=-0.2,tmax=0.8, reject_by_annotation=False).copy()\r\n",
    "freq_epochs = mne.Epochs(pipeline.raw,pipeline.events, freq_dict,tmin=-0.2,tmax=0.8, reject_by_annotation=False).copy()\r\n",
    "mne.viz.plot_compare_evokeds({'rare': rare_epochs.average(), 'freq': freq_epochs.average()}, picks='Cz')"
   ],
   "outputs": [],
   "metadata": {}
  },
  {
   "cell_type": "code",
   "execution_count": null,
   "source": [
    "mne.viz.plot_compare_evokeds({'rare': epochs_clean['rare'].average(),'freq':epochs_clean['freq'].average()},picks=\"Cz\")"
   ],
   "outputs": [],
   "metadata": {}
  },
  {
   "cell_type": "markdown",
   "source": [
    "# ERP Analysis"
   ],
   "metadata": {}
  }
 ],
 "metadata": {
  "interpreter": {
   "hash": "173a92a0e93819f22c18d3a068a863ecb9e0b58fa84e48d0a92f0143a680fbf1"
  },
  "kernelspec": {
   "name": "python3",
   "display_name": "Python 3.9.6 64-bit ('eeg-pipeline': conda)"
  },
  "language_info": {
   "codemirror_mode": {
    "name": "ipython",
    "version": 3
   },
   "file_extension": ".py",
   "mimetype": "text/x-python",
   "name": "python",
   "nbconvert_exporter": "python",
   "pygments_lexer": "ipython3",
   "version": "3.9.6"
  }
 },
 "nbformat": 4,
 "nbformat_minor": 4
}